{
  "nbformat": 4,
  "nbformat_minor": 0,
  "metadata": {
    "colab": {
      "provenance": []
    },
    "kernelspec": {
      "name": "python3",
      "display_name": "Python 3"
    },
    "language_info": {
      "name": "python"
    }
  },
  "cells": [
    {
      "cell_type": "code",
      "execution_count": null,
      "metadata": {
        "id": "vNrsUG-QP9xM"
      },
      "outputs": [],
      "source": [
        "import pandas as pd\n",
        "import numpy as np\n",
        "import matplotlib.pyplot as plt\n",
        "from scipy import stats\n",
        "import statsmodels.api as sm\n",
        "from statsmodels.formula.api import ols\n",
        "import seaborn as sns\n",
        "\n",
        "data ={\n",
        "    'Age': [25, 32, 41, 28, 35, 45, 30, 38, 43],\n",
        "    'Income': [50000, 65000, 75000, 55000, 70000, 80000, 60000, 72000, 78000],\n",
        "    'Education': ['Bachelor', 'Master', 'Phd', 'Bachelor', 'Master', 'Phd', 'Bachelor', 'Master', 'Phd']\n",
        "}\n",
        "df=pd.DataFrame(data)\n"
      ]
    },
    {
      "cell_type": "code",
      "source": [
        "#For t-test 2 oota group matrai herxa (education 3 ,bach, mast, phd) phd without 2 group\n",
        "\n",
        "#1 T-test between Bachelor's and Master's\n",
        "\n",
        "bachelor_income=df[df['Education']=='Bachelor']['Income']\n",
        "master_income=df[df['Education']=='Master']['Income']\n",
        "\n",
        "t_stat, p_value_ttest = stats.ttest_ind(bachelor_income, master_income)\n",
        "print(f\"T-test results: t-statistic={t_stat}, p-value={p_value_ttest}\")"
      ],
      "metadata": {
        "colab": {
          "base_uri": "https://localhost:8080/"
        },
        "id": "QYwxoOwRQvau",
        "outputId": "cac163bc-d030-4541-b2be-17daa34f8f28"
      },
      "execution_count": null,
      "outputs": [
        {
          "output_type": "stream",
          "name": "stdout",
          "text": [
            "T-test results: t-statistic=-3.9336604086431146, p-value=0.01705041829957295\n"
          ]
        }
      ]
    },
    {
      "cell_type": "code",
      "source": [
        "#2 One-way ANOVA\n",
        "anova_result = ols('Income ~ Education', data=df).fit()\n",
        "anova_table = sm.stats.anova_lm(anova_result,type=2)\n",
        "print(\"\\n One-Way Anova Results: \")\n",
        "print(anova_table)"
      ],
      "metadata": {
        "colab": {
          "base_uri": "https://localhost:8080/"
        },
        "id": "0ouDg7u_SWhG",
        "outputId": "03d90acc-613b-483a-c32a-e9df79055fef"
      },
      "execution_count": null,
      "outputs": [
        {
          "output_type": "stream",
          "name": "stdout",
          "text": [
            "\n",
            " One-Way Anova Results: \n",
            "            df        sum_sq       mean_sq          F    PR(>F)\n",
            "Education  2.0  7.848889e+08  3.924444e+08  26.556391  0.001046\n",
            "Residual   6.0  8.866667e+07  1.477778e+07        NaN       NaN\n"
          ]
        }
      ]
    },
    {
      "cell_type": "code",
      "source": [
        "# NULL HYPOTHESIS : Income for bachelor's and master's are same\n",
        "# ALTERNATE HYPOTHESIS : Income for bachelor's and master's aren't same\n",
        "\n",
        "# Regression analysis\n",
        "\n",
        "regression_model = ols('Income ~ Age + Education', data=df).fit()\n",
        "print(\"\\n Regression Analysis Results: \")\n",
        "print(regression_model.summary())"
      ],
      "metadata": {
        "colab": {
          "base_uri": "https://localhost:8080/"
        },
        "id": "Jw_i3_c0SzSl",
        "outputId": "01dbe428-8959-41b3-c0d1-722891eead82"
      },
      "execution_count": null,
      "outputs": [
        {
          "output_type": "stream",
          "name": "stdout",
          "text": [
            "\n",
            " Regression Analysis Results: \n",
            "                            OLS Regression Results                            \n",
            "==============================================================================\n",
            "Dep. Variable:                 Income   R-squared:                       0.991\n",
            "Model:                            OLS   Adj. R-squared:                  0.986\n",
            "Method:                 Least Squares   F-statistic:                     190.8\n",
            "Date:                Thu, 19 Dec 2024   Prob (F-statistic):           1.42e-05\n",
            "Time:                        09:53:51   Log-Likelihood:                -74.158\n",
            "No. Observations:                   9   AIC:                             156.3\n",
            "Df Residuals:                       5   BIC:                             157.1\n",
            "Df Model:                           3                                         \n",
            "Covariance Type:            nonrobust                                         \n",
            "=======================================================================================\n",
            "                          coef    std err          t      P>|t|      [0.025      0.975]\n",
            "---------------------------------------------------------------------------------------\n",
            "Intercept            1.493e+04   5518.014      2.706      0.042     746.529    2.91e+04\n",
            "Education[T.Master]  3379.3103   1764.149      1.916      0.114   -1155.578    7914.199\n",
            "Education[T.Phd]      459.7701   3194.683      0.144      0.891   -7752.423    8671.964\n",
            "Age                  1448.2759    197.788      7.322      0.001     939.846    1956.706\n",
            "==============================================================================\n",
            "Omnibus:                        0.218   Durbin-Watson:                   3.139\n",
            "Prob(Omnibus):                  0.897   Jarque-Bera (JB):                0.380\n",
            "Skew:                           0.166   Prob(JB):                        0.827\n",
            "Kurtosis:                       2.050   Cond. No.                         563.\n",
            "==============================================================================\n",
            "\n",
            "Notes:\n",
            "[1] Standard Errors assume that the covariance matrix of the errors is correctly specified.\n"
          ]
        },
        {
          "output_type": "stream",
          "name": "stderr",
          "text": [
            "/usr/local/lib/python3.10/dist-packages/scipy/stats/_axis_nan_policy.py:531: UserWarning: kurtosistest only valid for n>=20 ... continuing anyway, n=9\n",
            "  res = hypotest_fun_out(*samples, **kwds)\n"
          ]
        }
      ]
    },
    {
      "cell_type": "code",
      "source": [],
      "metadata": {
        "id": "oKxyng2aVdpQ"
      },
      "execution_count": null,
      "outputs": []
    }
  ]
}